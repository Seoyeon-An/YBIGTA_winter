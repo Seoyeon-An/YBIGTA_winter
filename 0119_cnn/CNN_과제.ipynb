{
  "nbformat": 4,
  "nbformat_minor": 0,
  "metadata": {
    "kernelspec": {
      "name": "python3",
      "display_name": "Python 3"
    },
    "colab": {
      "provenance": []
    },
    "accelerator": "GPU"
  },
  "cells": [
    {
      "cell_type": "markdown",
      "metadata": {
        "id": "RkkZZLnkM2w5"
      },
      "source": [
        "# CNN"
      ]
    },
    {
      "cell_type": "markdown",
      "source": [
        "### Setting\n",
        "---"
      ],
      "metadata": {
        "id": "_mgoqIfMFVs5"
      }
    },
    {
      "cell_type": "code",
      "metadata": {
        "id": "destLyXRM2w7"
      },
      "source": [
        "import numpy as np\n",
        "\n",
        "import torch\n",
        "import torch.nn as nn\n",
        "import torch.nn.functional as F\n",
        "import torch.optim as optim\n",
        "\n",
        "import torchvision\n",
        "from torchvision import datasets, models, transforms\n",
        "from torch.utils.data import Dataset, DataLoader\n",
        "\n",
        "import matplotlib.pyplot as plt\n",
        "%matplotlib inline"
      ],
      "execution_count": 1,
      "outputs": []
    },
    {
      "cell_type": "code",
      "metadata": {
        "id": "TzdpqMzxM2w-",
        "colab": {
          "base_uri": "https://localhost:8080/",
          "height": 0
        },
        "outputId": "03f73cd7-40f0-46f3-9b4c-fdde183ea980"
      },
      "source": [
        "if torch.cuda.is_available():\n",
        "    device = torch.device('cuda')          \n",
        "else:\n",
        "    device = torch.device('cpu')\n",
        "    \n",
        "print('device:', device)"
      ],
      "execution_count": 2,
      "outputs": [
        {
          "output_type": "stream",
          "name": "stdout",
          "text": [
            "device: cuda\n"
          ]
        }
      ]
    },
    {
      "cell_type": "markdown",
      "metadata": {
        "id": "MHvnJ1Q-M2xB"
      },
      "source": [
        "### Hyperparameters\n",
        "---\n",
        "하이퍼 파라미터를 바꿔 accuracy 95% 이상의 결과를 제출해주세요"
      ]
    },
    {
      "cell_type": "code",
      "source": [
        "num_classes = 10       # 분류 클래스 수 "
      ],
      "metadata": {
        "id": "EIVRLmmzXnXk"
      },
      "execution_count": 3,
      "outputs": []
    },
    {
      "cell_type": "code",
      "source": [
        "# 예시\n",
        "num_epochs_list = [10, 20, 30, 50]              # 에폭 수\n",
        "batch_size_list = [16, 32, 64, 128]             # 배치 사이즈\n",
        "learning_rate_list = [0.01, 0.05, 0.001, 0.005] # 학습률"
      ],
      "metadata": {
        "id": "r-Pkqf3yU7y6"
      },
      "execution_count": 4,
      "outputs": []
    },
    {
      "cell_type": "code",
      "metadata": {
        "id": "f2m0d9ZAM2xB"
      },
      "source": [
        "# 자유롭게 수정하셔도 됩니다\n",
        "num_epochs = 20      \n",
        "batch_size = 128    \n",
        "learning_rate = 0.0005"
      ],
      "execution_count": 5,
      "outputs": []
    },
    {
      "cell_type": "markdown",
      "metadata": {
        "id": "2EGLUfOSM2xD"
      },
      "source": [
        "### Load MNISTdataset\n",
        "---\n",
        "손글씨 0~9의 데이터셋입니다"
      ]
    },
    {
      "cell_type": "code",
      "metadata": {
        "id": "eJrQkkiWM2xE"
      },
      "source": [
        "# MNIST dataset\n",
        "train_dataset = torchvision.datasets.MNIST(root='./mnist_data/',\n",
        "                                           train=True, \n",
        "                                           transform=transforms.ToTensor(),\n",
        "                                           download=True)\n",
        "\n",
        "test_dataset = torchvision.datasets.MNIST(root='./mnist_data/',\n",
        "                                          train=False, \n",
        "                                          transform=transforms.ToTensor())\n",
        "\n",
        "# Data loader\n",
        "train_loader = torch.utils.data.DataLoader(dataset=train_dataset,\n",
        "                                           batch_size=batch_size, \n",
        "                                           shuffle=True)\n",
        "\n",
        "test_loader = torch.utils.data.DataLoader(dataset=test_dataset,\n",
        "                                          batch_size=batch_size, \n",
        "                                          shuffle=False)"
      ],
      "execution_count": 6,
      "outputs": []
    },
    {
      "cell_type": "markdown",
      "metadata": {
        "id": "O10KVzWYM2xG"
      },
      "source": [
        "### Progress monitor\n",
        "---"
      ]
    },
    {
      "cell_type": "code",
      "metadata": {
        "id": "wTX3NK7-M2xG"
      },
      "source": [
        "from IPython.display import HTML, display\n",
        "\n",
        "\n",
        "# Custom IPython progress bar for training\n",
        "class ProgressMonitor(object):\n",
        "    \n",
        "    tmpl = \"\"\"\n",
        "        <table style=\"width: 100%;\">\n",
        "            <tbody>\n",
        "                <tr>\n",
        "                    <td style=\"width: 30%;\">\n",
        "                     <b>Loss: {loss:0.4f}</b> &nbsp&nbsp&nbsp {value} / {length}\n",
        "                    </td>\n",
        "                    <td style=\"width: 70%;\">\n",
        "                        <progress value='{value}' max='{length}', style='width: 100%'>{value}</progress>\n",
        "                    </td>\n",
        "                </tr>\n",
        "            </tbody>\n",
        "        </table>        \n",
        "        \"\"\"\n",
        "\n",
        "    def __init__(self, length):\n",
        "        self.length = length\n",
        "        self.count = 0\n",
        "        self.display = display(self.html(0, 0), display_id=True)\n",
        "        \n",
        "    def html(self, count, loss):\n",
        "        return HTML(self.tmpl.format(length=self.length, value=count, loss=loss))\n",
        "        \n",
        "    def update(self, count, loss):\n",
        "        self.count += count\n",
        "        self.display.update(self.html(self.count, loss))"
      ],
      "execution_count": 7,
      "outputs": []
    },
    {
      "cell_type": "markdown",
      "metadata": {
        "id": "2z3X8Yx7M2xI"
      },
      "source": [
        "### Define CNN models\n",
        "___"
      ]
    },
    {
      "cell_type": "markdown",
      "source": [
        "![image.png](data:image/png;base64,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)"
      ],
      "metadata": {
        "id": "v27M5WNYTgVX"
      }
    },
    {
      "cell_type": "code",
      "metadata": {
        "id": "p0CIgl4RQs8Z"
      },
      "source": [
        "# ConvNet3 - Conv layer 2 + fc layer 2\n",
        "class ConvNet3(nn.Module):\n",
        "    def __init__(self, num_classes=10):\n",
        "        super().__init__()\n",
        "        \n",
        "        self.layer1 = nn.Sequential(\n",
        "            nn.Conv2d(in_channels  = 1, out_channels = 16, kernel_size = 5, stride = 1, padding = 2),\n",
        "            nn.BatchNorm2d(num_features = 16),\n",
        "            nn.ReLU(),\n",
        "            nn.MaxPool2d(kernel_size = 2, stride = 2)\n",
        "        )\n",
        "\n",
        "        self.layer2 = nn.Sequential(\n",
        "            nn.Conv2d(in_channels  = 16, out_channels = 32, kernel_size = 5, stride = 1, padding = 2),\n",
        "            nn.BatchNorm2d(num_features = 32),\n",
        "            nn.ReLU(),\n",
        "            nn.MaxPool2d(kernel_size = 2, stride = 2)\n",
        "        )\n",
        "\n",
        "        self.fc = nn.Sequential(\n",
        "            nn.Dropout(p = 0.5),\n",
        "            nn.Linear(7*7*32, 512),\n",
        "            nn.BatchNorm1d(num_features = 512),\n",
        "            nn.ReLU(),\n",
        "            nn.Dropout(p = 0.5),\n",
        "            nn.Linear(512, num_classes)\n",
        "        )\n",
        "\n",
        "    def forward(self, x):\n",
        "        out = self.layer1(x)\n",
        "        out = self.layer2(out)\n",
        "        out = out.reshape(out.size(0), -1) #fc layer 입력 전reshape(미니 배치사이즈, 나머지는 일렬로)\n",
        "        out = self.fc(out)\n",
        "        return out"
      ],
      "execution_count": 8,
      "outputs": []
    },
    {
      "cell_type": "code",
      "metadata": {
        "id": "u7vA1a7NM2xL"
      },
      "source": [
        "# 모델 생성\n",
        "model = ConvNet3(num_classes).to(device)"
      ],
      "execution_count": 9,
      "outputs": []
    },
    {
      "cell_type": "code",
      "metadata": {
        "id": "mSdGu8YRM2xM"
      },
      "source": [
        "# 손실함수 - Cross entropy loss, optimizer - Adam\n",
        "loss_func = nn.CrossEntropyLoss()\n",
        "optimizer = torch.optim.Adam(model.parameters(), lr=learning_rate)"
      ],
      "execution_count": 10,
      "outputs": []
    },
    {
      "cell_type": "markdown",
      "metadata": {
        "id": "pQyAm_yWM2xS"
      },
      "source": [
        "### Train\n",
        "---"
      ]
    },
    {
      "cell_type": "code",
      "metadata": {
        "id": "uXq8-IvNM2xT"
      },
      "source": [
        "# train 함수\n",
        "def train():\n",
        "    model.train()\n",
        "\n",
        "    batch_loss_list = []\n",
        "    progress = ProgressMonitor( length = len(train_dataset) )\n",
        "\n",
        "    for batch, target in train_loader:\n",
        "        batch, target = batch.to(device), target.to(device)\n",
        "\n",
        "        output = model( batch )\n",
        "        loss = loss_func( output, target )\n",
        "\n",
        "        optimizer.zero_grad()\n",
        "        loss.backward()\n",
        "        optimizer.step()\n",
        "\n",
        "        batch_loss_list.append(loss.item())\n",
        "        progress.update(batch.shape[0], sum(batch_loss_list) / len(batch_loss_list))"
      ],
      "execution_count": 11,
      "outputs": []
    },
    {
      "cell_type": "code",
      "metadata": {
        "id": "cKkLYuWkM2xU"
      },
      "source": [
        "# test 함수\n",
        "def test():\n",
        "    model.eval()\n",
        "    correct = 0\n",
        "\n",
        "    with torch.no_grad():\n",
        "        for batch, target in test_loader:\n",
        "            batch, target = batch.to(device), target.to(device)\n",
        "\n",
        "            output = model( batch )\n",
        "\n",
        "            output = torch.argmax(output, 1)\n",
        "\n",
        "            correct += (output == target).sum().item()\n",
        "\n",
        "    acc = 100 * float(correct)/ len(test_dataset)\n",
        "    print('Test accuracy : {}/{} ({:.2f}%)'.format(correct, len(test_dataset), acc))"
      ],
      "execution_count": 12,
      "outputs": []
    },
    {
      "cell_type": "markdown",
      "source": [
        "### result\n",
        "---\n",
        "accuracy 95% 이상의 결과를 만들어 해당부분 스크린샷과 ipynb 파일을 제출해주세요"
      ],
      "metadata": {
        "id": "GibXGu9_V5HY"
      }
    },
    {
      "cell_type": "code",
      "metadata": {
        "id": "ZR-CkDGAM2xW",
        "colab": {
          "base_uri": "https://localhost:8080/",
          "height": 831
        },
        "outputId": "9fec1827-a350-4ced-d7b7-3d23a304abc7"
      },
      "source": [
        "# main loop\n",
        "for epoch in range(num_epochs):\n",
        "    train()\n",
        "    test()"
      ],
      "execution_count": 13,
      "outputs": [
        {
          "output_type": "display_data",
          "data": {
            "text/plain": [
              "<IPython.core.display.HTML object>"
            ],
            "text/html": [
              "\n",
              "        <table style=\"width: 100%;\">\n",
              "            <tbody>\n",
              "                <tr>\n",
              "                    <td style=\"width: 30%;\">\n",
              "                     <b>Loss: 0.2381</b> &nbsp&nbsp&nbsp 60000 / 60000\n",
              "                    </td>\n",
              "                    <td style=\"width: 70%;\">\n",
              "                        <progress value='60000' max='60000', style='width: 100%'>60000</progress>\n",
              "                    </td>\n",
              "                </tr>\n",
              "            </tbody>\n",
              "        </table>        \n",
              "        "
            ]
          },
          "metadata": {}
        },
        {
          "output_type": "stream",
          "name": "stdout",
          "text": [
            "Test accuracy : 9830/10000 (98.30%)\n"
          ]
        },
        {
          "output_type": "display_data",
          "data": {
            "text/plain": [
              "<IPython.core.display.HTML object>"
            ],
            "text/html": [
              "\n",
              "        <table style=\"width: 100%;\">\n",
              "            <tbody>\n",
              "                <tr>\n",
              "                    <td style=\"width: 30%;\">\n",
              "                     <b>Loss: 0.0862</b> &nbsp&nbsp&nbsp 60000 / 60000\n",
              "                    </td>\n",
              "                    <td style=\"width: 70%;\">\n",
              "                        <progress value='60000' max='60000', style='width: 100%'>60000</progress>\n",
              "                    </td>\n",
              "                </tr>\n",
              "            </tbody>\n",
              "        </table>        \n",
              "        "
            ]
          },
          "metadata": {}
        },
        {
          "output_type": "stream",
          "name": "stdout",
          "text": [
            "Test accuracy : 9885/10000 (98.85%)\n"
          ]
        },
        {
          "output_type": "display_data",
          "data": {
            "text/plain": [
              "<IPython.core.display.HTML object>"
            ],
            "text/html": [
              "\n",
              "        <table style=\"width: 100%;\">\n",
              "            <tbody>\n",
              "                <tr>\n",
              "                    <td style=\"width: 30%;\">\n",
              "                     <b>Loss: 0.0659</b> &nbsp&nbsp&nbsp 60000 / 60000\n",
              "                    </td>\n",
              "                    <td style=\"width: 70%;\">\n",
              "                        <progress value='60000' max='60000', style='width: 100%'>60000</progress>\n",
              "                    </td>\n",
              "                </tr>\n",
              "            </tbody>\n",
              "        </table>        \n",
              "        "
            ]
          },
          "metadata": {}
        },
        {
          "output_type": "stream",
          "name": "stdout",
          "text": [
            "Test accuracy : 9898/10000 (98.98%)\n"
          ]
        },
        {
          "output_type": "display_data",
          "data": {
            "text/plain": [
              "<IPython.core.display.HTML object>"
            ],
            "text/html": [
              "\n",
              "        <table style=\"width: 100%;\">\n",
              "            <tbody>\n",
              "                <tr>\n",
              "                    <td style=\"width: 30%;\">\n",
              "                     <b>Loss: 0.0556</b> &nbsp&nbsp&nbsp 60000 / 60000\n",
              "                    </td>\n",
              "                    <td style=\"width: 70%;\">\n",
              "                        <progress value='60000' max='60000', style='width: 100%'>60000</progress>\n",
              "                    </td>\n",
              "                </tr>\n",
              "            </tbody>\n",
              "        </table>        \n",
              "        "
            ]
          },
          "metadata": {}
        },
        {
          "output_type": "stream",
          "name": "stdout",
          "text": [
            "Test accuracy : 9907/10000 (99.07%)\n"
          ]
        },
        {
          "output_type": "display_data",
          "data": {
            "text/plain": [
              "<IPython.core.display.HTML object>"
            ],
            "text/html": [
              "\n",
              "        <table style=\"width: 100%;\">\n",
              "            <tbody>\n",
              "                <tr>\n",
              "                    <td style=\"width: 30%;\">\n",
              "                     <b>Loss: 0.0473</b> &nbsp&nbsp&nbsp 60000 / 60000\n",
              "                    </td>\n",
              "                    <td style=\"width: 70%;\">\n",
              "                        <progress value='60000' max='60000', style='width: 100%'>60000</progress>\n",
              "                    </td>\n",
              "                </tr>\n",
              "            </tbody>\n",
              "        </table>        \n",
              "        "
            ]
          },
          "metadata": {}
        },
        {
          "output_type": "stream",
          "name": "stdout",
          "text": [
            "Test accuracy : 9923/10000 (99.23%)\n"
          ]
        },
        {
          "output_type": "display_data",
          "data": {
            "text/plain": [
              "<IPython.core.display.HTML object>"
            ],
            "text/html": [
              "\n",
              "        <table style=\"width: 100%;\">\n",
              "            <tbody>\n",
              "                <tr>\n",
              "                    <td style=\"width: 30%;\">\n",
              "                     <b>Loss: 0.0439</b> &nbsp&nbsp&nbsp 60000 / 60000\n",
              "                    </td>\n",
              "                    <td style=\"width: 70%;\">\n",
              "                        <progress value='60000' max='60000', style='width: 100%'>60000</progress>\n",
              "                    </td>\n",
              "                </tr>\n",
              "            </tbody>\n",
              "        </table>        \n",
              "        "
            ]
          },
          "metadata": {}
        },
        {
          "output_type": "stream",
          "name": "stdout",
          "text": [
            "Test accuracy : 9928/10000 (99.28%)\n"
          ]
        },
        {
          "output_type": "display_data",
          "data": {
            "text/plain": [
              "<IPython.core.display.HTML object>"
            ],
            "text/html": [
              "\n",
              "        <table style=\"width: 100%;\">\n",
              "            <tbody>\n",
              "                <tr>\n",
              "                    <td style=\"width: 30%;\">\n",
              "                     <b>Loss: 0.0411</b> &nbsp&nbsp&nbsp 60000 / 60000\n",
              "                    </td>\n",
              "                    <td style=\"width: 70%;\">\n",
              "                        <progress value='60000' max='60000', style='width: 100%'>60000</progress>\n",
              "                    </td>\n",
              "                </tr>\n",
              "            </tbody>\n",
              "        </table>        \n",
              "        "
            ]
          },
          "metadata": {}
        },
        {
          "output_type": "stream",
          "name": "stdout",
          "text": [
            "Test accuracy : 9931/10000 (99.31%)\n"
          ]
        },
        {
          "output_type": "display_data",
          "data": {
            "text/plain": [
              "<IPython.core.display.HTML object>"
            ],
            "text/html": [
              "\n",
              "        <table style=\"width: 100%;\">\n",
              "            <tbody>\n",
              "                <tr>\n",
              "                    <td style=\"width: 30%;\">\n",
              "                     <b>Loss: 0.0385</b> &nbsp&nbsp&nbsp 60000 / 60000\n",
              "                    </td>\n",
              "                    <td style=\"width: 70%;\">\n",
              "                        <progress value='60000' max='60000', style='width: 100%'>60000</progress>\n",
              "                    </td>\n",
              "                </tr>\n",
              "            </tbody>\n",
              "        </table>        \n",
              "        "
            ]
          },
          "metadata": {}
        },
        {
          "output_type": "stream",
          "name": "stdout",
          "text": [
            "Test accuracy : 9924/10000 (99.24%)\n"
          ]
        },
        {
          "output_type": "display_data",
          "data": {
            "text/plain": [
              "<IPython.core.display.HTML object>"
            ],
            "text/html": [
              "\n",
              "        <table style=\"width: 100%;\">\n",
              "            <tbody>\n",
              "                <tr>\n",
              "                    <td style=\"width: 30%;\">\n",
              "                     <b>Loss: 0.0334</b> &nbsp&nbsp&nbsp 60000 / 60000\n",
              "                    </td>\n",
              "                    <td style=\"width: 70%;\">\n",
              "                        <progress value='60000' max='60000', style='width: 100%'>60000</progress>\n",
              "                    </td>\n",
              "                </tr>\n",
              "            </tbody>\n",
              "        </table>        \n",
              "        "
            ]
          },
          "metadata": {}
        },
        {
          "output_type": "stream",
          "name": "stdout",
          "text": [
            "Test accuracy : 9935/10000 (99.35%)\n"
          ]
        },
        {
          "output_type": "display_data",
          "data": {
            "text/plain": [
              "<IPython.core.display.HTML object>"
            ],
            "text/html": [
              "\n",
              "        <table style=\"width: 100%;\">\n",
              "            <tbody>\n",
              "                <tr>\n",
              "                    <td style=\"width: 30%;\">\n",
              "                     <b>Loss: 0.0324</b> &nbsp&nbsp&nbsp 60000 / 60000\n",
              "                    </td>\n",
              "                    <td style=\"width: 70%;\">\n",
              "                        <progress value='60000' max='60000', style='width: 100%'>60000</progress>\n",
              "                    </td>\n",
              "                </tr>\n",
              "            </tbody>\n",
              "        </table>        \n",
              "        "
            ]
          },
          "metadata": {}
        },
        {
          "output_type": "stream",
          "name": "stdout",
          "text": [
            "Test accuracy : 9935/10000 (99.35%)\n"
          ]
        },
        {
          "output_type": "display_data",
          "data": {
            "text/plain": [
              "<IPython.core.display.HTML object>"
            ],
            "text/html": [
              "\n",
              "        <table style=\"width: 100%;\">\n",
              "            <tbody>\n",
              "                <tr>\n",
              "                    <td style=\"width: 30%;\">\n",
              "                     <b>Loss: 0.0303</b> &nbsp&nbsp&nbsp 60000 / 60000\n",
              "                    </td>\n",
              "                    <td style=\"width: 70%;\">\n",
              "                        <progress value='60000' max='60000', style='width: 100%'>60000</progress>\n",
              "                    </td>\n",
              "                </tr>\n",
              "            </tbody>\n",
              "        </table>        \n",
              "        "
            ]
          },
          "metadata": {}
        },
        {
          "output_type": "stream",
          "name": "stdout",
          "text": [
            "Test accuracy : 9936/10000 (99.36%)\n"
          ]
        },
        {
          "output_type": "display_data",
          "data": {
            "text/plain": [
              "<IPython.core.display.HTML object>"
            ],
            "text/html": [
              "\n",
              "        <table style=\"width: 100%;\">\n",
              "            <tbody>\n",
              "                <tr>\n",
              "                    <td style=\"width: 30%;\">\n",
              "                     <b>Loss: 0.0282</b> &nbsp&nbsp&nbsp 60000 / 60000\n",
              "                    </td>\n",
              "                    <td style=\"width: 70%;\">\n",
              "                        <progress value='60000' max='60000', style='width: 100%'>60000</progress>\n",
              "                    </td>\n",
              "                </tr>\n",
              "            </tbody>\n",
              "        </table>        \n",
              "        "
            ]
          },
          "metadata": {}
        },
        {
          "output_type": "stream",
          "name": "stdout",
          "text": [
            "Test accuracy : 9939/10000 (99.39%)\n"
          ]
        },
        {
          "output_type": "display_data",
          "data": {
            "text/plain": [
              "<IPython.core.display.HTML object>"
            ],
            "text/html": [
              "\n",
              "        <table style=\"width: 100%;\">\n",
              "            <tbody>\n",
              "                <tr>\n",
              "                    <td style=\"width: 30%;\">\n",
              "                     <b>Loss: 0.0285</b> &nbsp&nbsp&nbsp 60000 / 60000\n",
              "                    </td>\n",
              "                    <td style=\"width: 70%;\">\n",
              "                        <progress value='60000' max='60000', style='width: 100%'>60000</progress>\n",
              "                    </td>\n",
              "                </tr>\n",
              "            </tbody>\n",
              "        </table>        \n",
              "        "
            ]
          },
          "metadata": {}
        },
        {
          "output_type": "stream",
          "name": "stdout",
          "text": [
            "Test accuracy : 9940/10000 (99.40%)\n"
          ]
        },
        {
          "output_type": "display_data",
          "data": {
            "text/plain": [
              "<IPython.core.display.HTML object>"
            ],
            "text/html": [
              "\n",
              "        <table style=\"width: 100%;\">\n",
              "            <tbody>\n",
              "                <tr>\n",
              "                    <td style=\"width: 30%;\">\n",
              "                     <b>Loss: 0.0263</b> &nbsp&nbsp&nbsp 60000 / 60000\n",
              "                    </td>\n",
              "                    <td style=\"width: 70%;\">\n",
              "                        <progress value='60000' max='60000', style='width: 100%'>60000</progress>\n",
              "                    </td>\n",
              "                </tr>\n",
              "            </tbody>\n",
              "        </table>        \n",
              "        "
            ]
          },
          "metadata": {}
        },
        {
          "output_type": "stream",
          "name": "stdout",
          "text": [
            "Test accuracy : 9939/10000 (99.39%)\n"
          ]
        },
        {
          "output_type": "display_data",
          "data": {
            "text/plain": [
              "<IPython.core.display.HTML object>"
            ],
            "text/html": [
              "\n",
              "        <table style=\"width: 100%;\">\n",
              "            <tbody>\n",
              "                <tr>\n",
              "                    <td style=\"width: 30%;\">\n",
              "                     <b>Loss: 0.0258</b> &nbsp&nbsp&nbsp 60000 / 60000\n",
              "                    </td>\n",
              "                    <td style=\"width: 70%;\">\n",
              "                        <progress value='60000' max='60000', style='width: 100%'>60000</progress>\n",
              "                    </td>\n",
              "                </tr>\n",
              "            </tbody>\n",
              "        </table>        \n",
              "        "
            ]
          },
          "metadata": {}
        },
        {
          "output_type": "stream",
          "name": "stdout",
          "text": [
            "Test accuracy : 9942/10000 (99.42%)\n"
          ]
        },
        {
          "output_type": "display_data",
          "data": {
            "text/plain": [
              "<IPython.core.display.HTML object>"
            ],
            "text/html": [
              "\n",
              "        <table style=\"width: 100%;\">\n",
              "            <tbody>\n",
              "                <tr>\n",
              "                    <td style=\"width: 30%;\">\n",
              "                     <b>Loss: 0.0241</b> &nbsp&nbsp&nbsp 60000 / 60000\n",
              "                    </td>\n",
              "                    <td style=\"width: 70%;\">\n",
              "                        <progress value='60000' max='60000', style='width: 100%'>60000</progress>\n",
              "                    </td>\n",
              "                </tr>\n",
              "            </tbody>\n",
              "        </table>        \n",
              "        "
            ]
          },
          "metadata": {}
        },
        {
          "output_type": "stream",
          "name": "stdout",
          "text": [
            "Test accuracy : 9947/10000 (99.47%)\n"
          ]
        },
        {
          "output_type": "display_data",
          "data": {
            "text/plain": [
              "<IPython.core.display.HTML object>"
            ],
            "text/html": [
              "\n",
              "        <table style=\"width: 100%;\">\n",
              "            <tbody>\n",
              "                <tr>\n",
              "                    <td style=\"width: 30%;\">\n",
              "                     <b>Loss: 0.0234</b> &nbsp&nbsp&nbsp 60000 / 60000\n",
              "                    </td>\n",
              "                    <td style=\"width: 70%;\">\n",
              "                        <progress value='60000' max='60000', style='width: 100%'>60000</progress>\n",
              "                    </td>\n",
              "                </tr>\n",
              "            </tbody>\n",
              "        </table>        \n",
              "        "
            ]
          },
          "metadata": {}
        },
        {
          "output_type": "stream",
          "name": "stdout",
          "text": [
            "Test accuracy : 9953/10000 (99.53%)\n"
          ]
        },
        {
          "output_type": "display_data",
          "data": {
            "text/plain": [
              "<IPython.core.display.HTML object>"
            ],
            "text/html": [
              "\n",
              "        <table style=\"width: 100%;\">\n",
              "            <tbody>\n",
              "                <tr>\n",
              "                    <td style=\"width: 30%;\">\n",
              "                     <b>Loss: 0.0206</b> &nbsp&nbsp&nbsp 60000 / 60000\n",
              "                    </td>\n",
              "                    <td style=\"width: 70%;\">\n",
              "                        <progress value='60000' max='60000', style='width: 100%'>60000</progress>\n",
              "                    </td>\n",
              "                </tr>\n",
              "            </tbody>\n",
              "        </table>        \n",
              "        "
            ]
          },
          "metadata": {}
        },
        {
          "output_type": "stream",
          "name": "stdout",
          "text": [
            "Test accuracy : 9946/10000 (99.46%)\n"
          ]
        },
        {
          "output_type": "display_data",
          "data": {
            "text/plain": [
              "<IPython.core.display.HTML object>"
            ],
            "text/html": [
              "\n",
              "        <table style=\"width: 100%;\">\n",
              "            <tbody>\n",
              "                <tr>\n",
              "                    <td style=\"width: 30%;\">\n",
              "                     <b>Loss: 0.0211</b> &nbsp&nbsp&nbsp 60000 / 60000\n",
              "                    </td>\n",
              "                    <td style=\"width: 70%;\">\n",
              "                        <progress value='60000' max='60000', style='width: 100%'>60000</progress>\n",
              "                    </td>\n",
              "                </tr>\n",
              "            </tbody>\n",
              "        </table>        \n",
              "        "
            ]
          },
          "metadata": {}
        },
        {
          "output_type": "stream",
          "name": "stdout",
          "text": [
            "Test accuracy : 9940/10000 (99.40%)\n"
          ]
        },
        {
          "output_type": "display_data",
          "data": {
            "text/plain": [
              "<IPython.core.display.HTML object>"
            ],
            "text/html": [
              "\n",
              "        <table style=\"width: 100%;\">\n",
              "            <tbody>\n",
              "                <tr>\n",
              "                    <td style=\"width: 30%;\">\n",
              "                     <b>Loss: 0.0205</b> &nbsp&nbsp&nbsp 60000 / 60000\n",
              "                    </td>\n",
              "                    <td style=\"width: 70%;\">\n",
              "                        <progress value='60000' max='60000', style='width: 100%'>60000</progress>\n",
              "                    </td>\n",
              "                </tr>\n",
              "            </tbody>\n",
              "        </table>        \n",
              "        "
            ]
          },
          "metadata": {}
        },
        {
          "output_type": "stream",
          "name": "stdout",
          "text": [
            "Test accuracy : 9952/10000 (99.52%)\n"
          ]
        }
      ]
    },
    {
      "cell_type": "markdown",
      "source": [
        "**스크린샷**"
      ],
      "metadata": {
        "id": "0H40CZnos9sX"
      }
    },
    {
      "cell_type": "markdown",
      "source": [
        "![화면 캡처 2023-01-23 031700.png](data:image/png;base64,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)"
      ],
      "metadata": {
        "id": "20oqZeqQsQ99"
      }
    }
  ]
}